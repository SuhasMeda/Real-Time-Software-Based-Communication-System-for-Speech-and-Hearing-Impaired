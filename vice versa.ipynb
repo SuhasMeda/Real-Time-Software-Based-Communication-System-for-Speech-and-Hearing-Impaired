{
 "cells": [
  {
   "cell_type": "code",
   "execution_count": 1,
   "metadata": {},
   "outputs": [
    {
     "name": "stdout",
     "output_type": "stream",
     "text": [
      "Requirement already satisfied: pyttsx3 in c:\\users\\lenovo\\anaconda3\\lib\\site-packages (2.90)\n",
      "Requirement already satisfied: comtypes; platform_system == \"Windows\" in c:\\users\\lenovo\\anaconda3\\lib\\site-packages (from pyttsx3) (1.1.7)\n",
      "Requirement already satisfied: pywin32; platform_system == \"Windows\" in c:\\users\\lenovo\\anaconda3\\lib\\site-packages (from pyttsx3) (223)\n",
      "Requirement already satisfied: pypiwin32; platform_system == \"Windows\" in c:\\users\\lenovo\\anaconda3\\lib\\site-packages (from pyttsx3) (223)\n",
      "Note: you may need to restart the kernel to use updated packages.\n"
     ]
    }
   ],
   "source": [
    "pip install pyttsx3"
   ]
  },
  {
   "cell_type": "code",
   "execution_count": 2,
   "metadata": {},
   "outputs": [
    {
     "name": "stdout",
     "output_type": "stream",
     "text": [
      "What u want to say: i\n"
     ]
    },
    {
     "data": {
      "text/plain": [
       "str"
      ]
     },
     "execution_count": 2,
     "metadata": {},
     "output_type": "execute_result"
    }
   ],
   "source": [
    "text = input(\"What u want to say: \")\n",
    "type(text)"
   ]
  },
  {
   "cell_type": "code",
   "execution_count": 3,
   "metadata": {},
   "outputs": [],
   "source": [
    "import pyttsx3\n",
    "engine = pyttsx3.init()\n",
    "engine.say(text)\n",
    "engine.runAndWait()"
   ]
  },
  {
   "cell_type": "code",
   "execution_count": 4,
   "metadata": {},
   "outputs": [
    {
     "name": "stdout",
     "output_type": "stream",
     "text": [
      "C:/Users/Lenovo/Desktop/final project/img\\hello.jpg\n",
      "C:/Users/Lenovo/Desktop/final project/img\\ok.jpg\n",
      "C:/Users/Lenovo/Desktop/final project/img\\thanks.jpg\n",
      "C:/Users/Lenovo/Desktop/final project/img\\yes.jpg\n"
     ]
    }
   ],
   "source": [
    "import cv2\n",
    "import glob\n",
    "\n",
    "path = glob.glob(\"C:/Users/Lenovo/Desktop/final project/img/*.jpg\")\n",
    "\n",
    "for file in path:\n",
    "    print(file)  "
   ]
  },
  {
   "cell_type": "code",
   "execution_count": 5,
   "metadata": {},
   "outputs": [
    {
     "name": "stdout",
     "output_type": "stream",
     "text": [
      "The word ['i'] doesn't match with the data set\n"
     ]
    }
   ],
   "source": [
    "if text==\"thanks\":\n",
    "    path = \"C:/Users/Lenovo/Desktop/final project/img/thanks.jpg\"\n",
    "    img = cv2.imread(path)\n",
    "    cv2.imshow(\"Thanks\",img)\n",
    "    cv2.waitKey(0)\n",
    "    cv2.waitKey(0)\n",
    "elif text==\"ok\":\n",
    "    path = \"C:/Users/Lenovo/Desktop/final project/img/ok.jpg\"\n",
    "    img = cv2.imread(path)\n",
    "    cv2.imshow(\"Ok\",img)\n",
    "    cv2.waitKey(0)\n",
    "elif text==\"hello\":\n",
    "    path = \"C:/Users/Lenovo/Desktop/final project/img/hello.jpg\"\n",
    "    img = cv2.imread(path)\n",
    "    cv2.imshow(\"Hello\",img)\n",
    "    cv2.waitKey(0)\n",
    "    cv2.destroyAllWindows()\n",
    "elif text==\"yes\":\n",
    "    path = \"C:/Users/Lenovo/Desktop/final project/img/yes.jpg\"\n",
    "    img = cv2.imread(path)\n",
    "    cv2.imshow(\"Yes\",img)\n",
    "    cv2.waitKey(0)\n",
    "else:\n",
    "    print(\"The word\", [text], \"doesn't match with the data set\")"
   ]
  }
 ],
 "metadata": {
  "kernelspec": {
   "display_name": "Python 3",
   "language": "python",
   "name": "python3"
  },
  "language_info": {
   "codemirror_mode": {
    "name": "ipython",
    "version": 3
   },
   "file_extension": ".py",
   "mimetype": "text/x-python",
   "name": "python",
   "nbconvert_exporter": "python",
   "pygments_lexer": "ipython3",
   "version": "3.7.3"
  }
 },
 "nbformat": 4,
 "nbformat_minor": 2
}
